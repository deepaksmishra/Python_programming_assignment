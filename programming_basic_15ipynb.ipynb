{
  "nbformat": 4,
  "nbformat_minor": 0,
  "metadata": {
    "colab": {
      "name": "programming_basic_15ipynb",
      "provenance": [],
      "collapsed_sections": []
    },
    "kernelspec": {
      "name": "python3",
      "display_name": "Python 3"
    },
    "language_info": {
      "name": "python"
    }
  },
  "cells": [
    {
      "cell_type": "code",
      "metadata": {
        "id": "-wEPj5SMva5L"
      },
      "source": [
        "Question 1:\n",
        "Please write a program using generator to print the numbers which can be divisible by 5 and 7 between 0 and n in comma separated form while n is input by console.\n",
        "Example:\n",
        "If the following n is given as input to the program:\n",
        "100\n",
        "Then, the output of the program should be:\n",
        "0,35,70\n"
      ],
      "execution_count": null,
      "outputs": []
    },
    {
      "cell_type": "code",
      "metadata": {
        "colab": {
          "base_uri": "https://localhost:8080/"
        },
        "id": "iMR60a-DGeb-",
        "outputId": "92aa1768-a4f2-4132-f178-abda61e37e43"
      },
      "source": [
        "# Python3 program to print all the numbers\n",
        "# divisible by 5 or 7 for a given number\n",
        " \n",
        "# Result generator with N\n",
        "def NumGen(n):\n",
        "     \n",
        "    # iterate from 0 to N\n",
        "    for j in range(1, n+1):\n",
        " \n",
        "        # Short-circuit operator is used\n",
        "        if j % 5 == 0 or j % 7 == 0:\n",
        "            yield j\n",
        " \n",
        "# Driver code\n",
        "if __name__ == \"__main__\":\n",
        "       \n",
        "    # input goes here\n",
        "    N = 50\n",
        " \n",
        "    # Iterating over generator function\n",
        "    for j in NumGen(N):\n",
        "        print(j, end = \" \")"
      ],
      "execution_count": 1,
      "outputs": [
        {
          "output_type": "stream",
          "name": "stdout",
          "text": [
            "5 7 10 14 15 20 21 25 28 30 35 40 42 45 49 50 "
          ]
        }
      ]
    },
    {
      "cell_type": "code",
      "metadata": {
        "id": "dOP_DWjdGsKM"
      },
      "source": [
        "Question 2:\n",
        "Please write a program using generator to print the even numbers between 0 and n in comma separated form while n is input by console.\n",
        "Example:\n",
        "If the following n is given as input to the program:\n",
        "10\n",
        "Then, the output of the program should be:\n",
        "0,2,4,6,8,10\n"
      ],
      "execution_count": null,
      "outputs": []
    },
    {
      "cell_type": "code",
      "metadata": {
        "colab": {
          "base_uri": "https://localhost:8080/"
        },
        "id": "ZYw7gntSGwsB",
        "outputId": "1122030f-1609-4eb9-d82e-c2c01055a234"
      },
      "source": [
        "# Solution by: StartZer0\n",
        "n = int(input())\n",
        "\n",
        "for i in range(0, n+1, 2):\n",
        "  if i < n - 1:\n",
        "    print(i, end = ',' )\n",
        "  else:\n",
        "    print(i)"
      ],
      "execution_count": 7,
      "outputs": [
        {
          "output_type": "stream",
          "name": "stdout",
          "text": [
            "10\n",
            "0,2,4,6,8,10\n"
          ]
        }
      ]
    },
    {
      "cell_type": "code",
      "metadata": {
        "id": "h5RbHic2HNwO"
      },
      "source": [
        "Question 3:\n",
        "The Fibonacci Sequence is computed based on the following formula:\n",
        "f(n)=0 if n=0\n",
        "f(n)=1 if n=1\n",
        "f(n)=f(n-1)+f(n-2) if n>1\n",
        "Please write a program using list comprehension to print the Fibonacci Sequence in comma separated form with a given n input by console.\n",
        "Example:\n",
        "If the following n is given as input to the program:\n",
        "7\n",
        "\n",
        "Then, the output of the program should be:\n",
        "0,1,1,2,3,5,8,13\n"
      ],
      "execution_count": null,
      "outputs": []
    },
    {
      "cell_type": "code",
      "metadata": {
        "colab": {
          "base_uri": "https://localhost:8080/"
        },
        "id": "RPosuNp6HgQ9",
        "outputId": "50e98f44-7837-40f7-ffe3-dbcf49edf2eb"
      },
      "source": [
        "def f(n):\n",
        "    if n < 2:\n",
        "        fibo[n] = n\n",
        "        return fibo[n]\n",
        "    fibo[n] = f(n-1) + f(n-2)\n",
        "    return fibo[n]\n",
        "\n",
        "n = int(input())\n",
        "fibo = [0]*(n+1)  # initialize a list of size (n+1)\n",
        "f(n)              # call once and it will set value to fibo[0-n]\n",
        "fibo = [str(i) for i in fibo]   # converting integer data to string type\n",
        "ans = \",\".join(fibo)    # joining all string element of fibo with ',' character\n",
        "print(ans)"
      ],
      "execution_count": 10,
      "outputs": [
        {
          "output_type": "stream",
          "name": "stdout",
          "text": [
            "7\n",
            "0,1,1,2,3,5,8,13\n"
          ]
        }
      ]
    },
    {
      "cell_type": "code",
      "metadata": {
        "id": "rB16B3HVHl7t"
      },
      "source": [
        "Question 4:\n",
        "Assuming that we have some email addresses in the \"username@companyname.com\" format, please write program to print the user name of a given email address. Both user names and company names are composed of letters only.\n",
        "Example:\n",
        "If the following email address is given as input to the program:\n",
        "john@google.com\n",
        "Then, the output of the program should be:\n",
        "john\n"
      ],
      "execution_count": null,
      "outputs": []
    },
    {
      "cell_type": "code",
      "metadata": {
        "colab": {
          "base_uri": "https://localhost:8080/"
        },
        "id": "vPHF4gZ1H4tB",
        "outputId": "1de92e4c-4a0c-4dee-9a4d-8284145d89ec"
      },
      "source": [
        "import re\n",
        "\n",
        "email = \"john@google.com elise@python.com\"\n",
        "pattern = \"\\w+@(\\w+).com\"\n",
        "ans = re.findall(pattern,email)\n",
        "print(ans)"
      ],
      "execution_count": 11,
      "outputs": [
        {
          "output_type": "stream",
          "name": "stdout",
          "text": [
            "['google', 'python']\n"
          ]
        }
      ]
    },
    {
      "cell_type": "code",
      "metadata": {
        "id": "3R2k_TghIAU5"
      },
      "source": [
        "Question 5:\n",
        "Define a class named Shape and its subclass Square. The Square class has an init function which takes a length as argument. Both classes have a area function which can print the area of the shape where Shape's area is 0 by default.\n"
      ],
      "execution_count": null,
      "outputs": []
    },
    {
      "cell_type": "code",
      "metadata": {
        "colab": {
          "base_uri": "https://localhost:8080/"
        },
        "id": "PCLoAyRzIFXw",
        "outputId": "05940acf-0e1e-4eff-c98b-8ccff92a2106"
      },
      "source": [
        "class Shape():\n",
        "    def __init__(self):\n",
        "        pass\n",
        "\n",
        "    def area(self):\n",
        "        return 0\n",
        "\n",
        "class Square(Shape):\n",
        "    def __init__(self,length = 0):\n",
        "        Shape.__init__(self)\n",
        "        self.length = length\n",
        "\n",
        "    def area(self):\n",
        "        return self.length*self.length\n",
        "\n",
        "Asqr = Square(5)\n",
        "print(Asqr.area())      # prints 25 as given argument\n",
        "\n",
        "print(Square().area())  # prints zero as default area"
      ],
      "execution_count": 13,
      "outputs": [
        {
          "output_type": "stream",
          "name": "stdout",
          "text": [
            "25\n",
            "0\n"
          ]
        }
      ]
    },
    {
      "cell_type": "code",
      "metadata": {
        "id": "i3v6L_GYIYhf"
      },
      "source": [
        ""
      ],
      "execution_count": null,
      "outputs": []
    }
  ]
}