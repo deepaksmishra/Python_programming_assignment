{
  "nbformat": 4,
  "nbformat_minor": 0,
  "metadata": {
    "colab": {
      "name": "programming_16.ipynb",
      "provenance": [],
      "collapsed_sections": []
    },
    "kernelspec": {
      "name": "python3",
      "display_name": "Python 3"
    },
    "language_info": {
      "name": "python"
    }
  },
  "cells": [
    {
      "cell_type": "code",
      "metadata": {
        "id": "qkXUDYlsJHwn"
      },
      "source": [
        "Question1. Write a function that stutters a word as if someone is struggling to read it. The first two letters are repeated twice with an ellipsis ... and space after each, and then the word is pronounced with a question mark ?.\n",
        "Examples\n",
        "stutter(\"incredible\") ➞ \"in... in... incredible?\"\n",
        "\n",
        "stutter(\"enthusiastic\") ➞ \"en... en... enthusiastic?\"\n",
        "\n",
        "stutter(\"outstanding\") ➞ \"ou... ou... outstanding?\"\n",
        "\n",
        "Hint :- Assume all input is in lower case and at least two characters long.\n"
      ],
      "execution_count": null,
      "outputs": []
    },
    {
      "cell_type": "code",
      "metadata": {
        "id": "Vulf8rb5Jpxy"
      },
      "source": [
        "def stutter(word):\n",
        "  word1=word[1:3]\n",
        "  print('\"',word1,'......',eval(word),'?','\"')\n",
        "  st=input('please input a string')\n",
        "  k=shutter(st)\n",
        "  print(k)\n"
      ],
      "execution_count": 3,
      "outputs": []
    },
    {
      "cell_type": "code",
      "metadata": {
        "id": "5OsuG1EEKyLs"
      },
      "source": [
        "Question 2.Create a function that takes an angle in radians and returns the corresponding angle in degrees rounded to one decimal place.\n",
        "Examples\n",
        "radians_to_degrees(1) ➞ 57.3\n",
        "\n",
        "radians_to_degrees(20) ➞ 1145.9\n",
        "\n",
        "radians_to_degrees(50) ➞ 2864.8\n"
      ],
      "execution_count": null,
      "outputs": []
    },
    {
      "cell_type": "code",
      "metadata": {
        "colab": {
          "base_uri": "https://localhost:8080/"
        },
        "id": "rrD66LwcLL5p",
        "outputId": "87c6a594-674c-4402-c0f4-710369e6512f"
      },
      "source": [
        "pi=22/7\n",
        "radian = float(input(\"Input radians: \"))\n",
        "degree = radian*(180/pi)\n",
        "print(degree)"
      ],
      "execution_count": 4,
      "outputs": [
        {
          "output_type": "stream",
          "name": "stdout",
          "text": [
            "Input radians: 20\n",
            "1145.4545454545455\n"
          ]
        }
      ]
    },
    {
      "cell_type": "code",
      "metadata": {
        "id": "2gFypjdCL4oX"
      },
      "source": [
        "Question 3. In this challenge, establish if a given integer num is a Curzon number. If 1 plus 2 elevated to num is exactly divisible by 1 plus 2 multiplied by num, then num is a Curzon number.\n",
        "Given a non-negative integer num, implement a function that returns True if num is a Curzon number, or False otherwise.\n",
        "Examples\n",
        "is_curzon(5) ➞ True\n",
        "# 2 ** 5 + 1 = 33\n",
        "# 2 * 5 + 1 = 11\n",
        "# 33 is a multiple of 11\n",
        "\n",
        "is_curzon(10) ➞ False\n",
        "# 2 ** 10 + 1 = 1025\n",
        "# 2 * 10 + 1 = 21\n",
        "# 1025 is not a multiple of 21\n",
        "\n",
        "is_curzon(14) ➞ True\n",
        "# 2 ** 14 + 1 = 16385\n",
        "# 2 * 14 + 1 = 29\n",
        "# 16385 is a multiple of 29\n"
      ],
      "execution_count": null,
      "outputs": []
    },
    {
      "cell_type": "code",
      "metadata": {
        "colab": {
          "base_uri": "https://localhost:8080/"
        },
        "id": "XdpKr6GlMvez",
        "outputId": "78d0624a-aa81-42c8-c444-c73a6c332ce2"
      },
      "source": [
        "# Python3 implementation of the approach\n",
        " \n",
        "# Function to check if a number\n",
        "# is a Curzon number or not\n",
        "def checkIfCurzonNumber(N):\n",
        " \n",
        "    powerTerm, productTerm = 0, 0\n",
        " \n",
        "    # Find 2^N + 1\n",
        "    powerTerm = pow(2, N) + 1\n",
        " \n",
        "    # Find 2*N + 1\n",
        "    productTerm = 2 * N + 1\n",
        " \n",
        "    # Check for divisibility\n",
        "    if (powerTerm % productTerm == 0):\n",
        "        print(\"Yes\")\n",
        "    else:\n",
        "        print(\"No\")\n",
        " \n",
        "# Driver code\n",
        "if __name__ == '__main__':\n",
        "     \n",
        "    N = 5\n",
        "    checkIfCurzonNumber(N)\n",
        " \n",
        "    N = 10\n",
        "    checkIfCurzonNumber(N)"
      ],
      "execution_count": 17,
      "outputs": [
        {
          "output_type": "stream",
          "name": "stdout",
          "text": [
            "Yes\n",
            "No\n"
          ]
        }
      ]
    },
    {
      "cell_type": "code",
      "metadata": {
        "id": "hBpU6ctbN6Kh"
      },
      "source": [
        "Question 4.Given the side length x find the area of a hexagon.\n",
        "\n",
        "Examples\n",
        "area_of_hexagon(1) ➞ 2.6\n",
        "\n",
        "area_of_hexagon(2) ➞ 10.4\n",
        "\n",
        "area_of_hexagon(3) ➞ 23.4\n",
        "\n",
        "\n",
        "\n"
      ],
      "execution_count": null,
      "outputs": []
    },
    {
      "cell_type": "code",
      "metadata": {
        "colab": {
          "base_uri": "https://localhost:8080/"
        },
        "id": "nSJmYUOEOvkA",
        "outputId": "4327cfe6-91cb-47b0-dde1-bd40ea261993"
      },
      "source": [
        "# Python3 program to find\n",
        "# area of a Hexagon\n",
        "import math\n",
        " \n",
        "# Function for calculating\n",
        "# area of the hexagon.\n",
        "def hexagonArea(s):\n",
        "     \n",
        "    return ((3 * math.sqrt(3) *\n",
        "            (s * s)) / 2);\n",
        "     \n",
        "# Driver code    \n",
        "if __name__ == \"__main__\" :\n",
        " \n",
        "    # length of a side.\n",
        "    s = 4\n",
        " \n",
        "    print(\"Area:\",\"{0:.4f}\" .\n",
        "           format(hexagonArea(s)))\n",
        " \n",
        "# This code is contributed by Naman_Garg"
      ],
      "execution_count": 18,
      "outputs": [
        {
          "output_type": "stream",
          "name": "stdout",
          "text": [
            "Area: 41.5692\n"
          ]
        }
      ]
    },
    {
      "cell_type": "code",
      "metadata": {
        "id": "rw-ZLtGBOwa7"
      },
      "source": [
        "Question 5. Create a function that returns a base-2 (binary) representation of a base-10 (decimal) string number. To convert is simple: ((2) means base-2 and (10) means base-10) 010101001(2) = 1 + 8 + 32 + 128.\n",
        "Going from right to left, the value of the most right bit is 1, now from that every bit to the left will be x2 the value, value of an 8 bit binary numbers are (256, 128, 64, 32, 16, 8, 4, 2, 1).\n",
        "Examples\n",
        "binary(1) ➞ \"1\"\n",
        "# 1*1 = 1\n",
        "\n",
        "binary(5) ➞ \"101\"\n",
        "# 1*1 + 1*4 = 5\n",
        "\n",
        "binary(10) ➞ \"1010\"\n",
        "# 1*2 + 1*8 = 10\n"
      ],
      "execution_count": null,
      "outputs": []
    },
    {
      "cell_type": "code",
      "metadata": {
        "colab": {
          "base_uri": "https://localhost:8080/"
        },
        "id": "jBCBWSRZO6zt",
        "outputId": "0c0cac34-5790-4ba3-e77f-3adabfc9d49f"
      },
      "source": [
        "\n",
        "def val(c):\n",
        "\tif c >= '0' and c <= '9':\n",
        "\t\treturn ord(c) - ord('0')\n",
        "\telse:\n",
        "\t\treturn ord(c) - ord('A') + 10;\n",
        "\n",
        "def toDeci(str,base):\n",
        "\tllen = len(str)\n",
        "\tpower = 1 #Initialize power of base\n",
        "\tnum = 0\t #Initialize result\n",
        "\n",
        "\tfor i in range(llen - 1, -1, -1):\n",
        "\t\t\n",
        "\n",
        "\t\tif val(str[i]) >= base:\n",
        "\t\t\tprint('Invalid Number')\n",
        "\t\t\treturn -1\n",
        "\t\tnum += val(str[i]) * power\n",
        "\t\tpower = power * base\n",
        "\treturn num\n",
        "\t\n",
        "# Driver code\n",
        "strr = \"11A\"\n",
        "base = 16\n",
        "print('Decimal equivalent of', strr,\n",
        "\t\t\t'in base', base, 'is',\n",
        "\t\t\t\ttoDeci(strr, base))\n",
        "\n"
      ],
      "execution_count": 20,
      "outputs": [
        {
          "output_type": "stream",
          "name": "stdout",
          "text": [
            "Decimal equivalent of 11A in base 16 is 282\n"
          ]
        }
      ]
    }
  ]
}