{
  "nbformat": 4,
  "nbformat_minor": 0,
  "metadata": {
    "colab": {
      "name": "python_programming-17.ipynb",
      "provenance": [],
      "collapsed_sections": []
    },
    "kernelspec": {
      "name": "python3",
      "display_name": "Python 3"
    },
    "language_info": {
      "name": "python"
    }
  },
  "cells": [
    {
      "cell_type": "code",
      "metadata": {
        "id": "PZKksmpaSKwW"
      },
      "source": [
        "Question1. Create a function that takes three arguments a, b, c and returns the sum of the numbers that are evenly divided by c from the range a, b inclusive.\n",
        "Examples\n",
        "evenly_divisible(1, 10, 20) ➞ 0\n",
        "# No number between 1 and 10 can be evenly divided by 20.\n",
        "\n",
        "evenly_divisible(1, 10, 2) ➞ 30\n",
        "# 2 + 4 + 6 + 8 + 10 = 30\n",
        "\n",
        "evenly_divisible(1, 10, 3) ➞ 18\n",
        "# 3 + 6 + 9 = 18\n"
      ],
      "execution_count": null,
      "outputs": []
    },
    {
      "cell_type": "code",
      "metadata": {
        "colab": {
          "base_uri": "https://localhost:8080/"
        },
        "id": "N4EjDc1eSU-x",
        "outputId": "be123fe4-8199-4b34-f78a-79764f4ca4f1"
      },
      "source": [
        "def sumDivisibles(A, B, M):\n",
        " \n",
        "    # Variable to store the sum\n",
        "    sum = 0\n",
        " \n",
        "    # Running a loop from A to B and check\n",
        "    # if a number is divisible by i.\n",
        "    for i in range(A, B + 1):\n",
        " \n",
        "        # If the number is divisible,\n",
        "        # then add it to sum\n",
        "        if (i % M == 0):\n",
        "            sum += i\n",
        " \n",
        "    # Return the sum\n",
        "    return sum\n",
        " \n",
        "# Driver code\n",
        "if __name__==\"__main__\":\n",
        "     \n",
        "    # A and B define the range\n",
        "    # M is the dividend\n",
        "    A = 6\n",
        "    B = 15\n",
        "    M = 3\n",
        " \n",
        "    # Printing the result\n",
        "    print(sumDivisibles(A, B, M))\n",
        "     "
      ],
      "execution_count": 1,
      "outputs": [
        {
          "output_type": "stream",
          "name": "stdout",
          "text": [
            "42\n"
          ]
        }
      ]
    },
    {
      "cell_type": "code",
      "metadata": {
        "id": "QwsMV042ShvF"
      },
      "source": [
        "Question2. Create a function that returns True if a given inequality expression is correct and False otherwise.\n",
        "Examples\n",
        "correct_signs(\"3 < 7 < 11\") ➞ True\n",
        "\n",
        "correct_signs(\"13 > 44 > 33 > 1\") ➞ False\n",
        "\n",
        "correct_signs(\"1 < 2 < 6 < 9 > 3\") ➞ True\n"
      ],
      "execution_count": null,
      "outputs": []
    },
    {
      "cell_type": "code",
      "metadata": {
        "colab": {
          "base_uri": "https://localhost:8080/"
        },
        "id": "JCKdihgASlMT",
        "outputId": "1c8d8b20-547f-4087-eb32-413c04b2f07e"
      },
      "source": [
        "def correct_signs(deg):\n",
        "\tgiris=0\n",
        "\tbeg=0\n",
        "\tvolumes=[]\n",
        "\tsigns=[]\n",
        "\ttry:\n",
        "\t\twhile True:\n",
        "\n",
        "\t\t\tmi=deg.find(\"<\",beg)\n",
        "\t\t\tbi=deg.find(\">\",beg)\n",
        "#\t\t\tprint(mi,bi,beg)\n",
        "\t\t\tif bi==-1 and mi==-1 and giris==0:\n",
        "\t\t\t\tprint(\"You should enter siign\")\n",
        "#\t\t\t\tprint(\"0\")\n",
        "\t\t\t\tbreak\n",
        "\t\t\n",
        "\t\t\telif mi<=bi and mi!=-1 and bi!=-1 :\n",
        "\n",
        "\t\t\t\tvolumes.append(int(deg[:deg.find(\"<\",beg)]))\n",
        "\t\t\t\tsigns.append(\"<\")\n",
        "\t\t\t\tbeg=deg.find(\"<\",beg)+1\n",
        "\t\t\t\tdeg=deg[beg:]\n",
        "\t\t\t\tbeg=0\n",
        "#\t\t\t\tprint(\"1\")\n",
        "\t\t\telif bi<=mi and bi!=-1 and mi!=-1:\n",
        "\t\t\t\tvolumes.append(int(deg[:deg.find(\">\",beg)]))\n",
        "\t\t\t\tsigns.append(\">\")\n",
        "\t\t\t\tbeg=deg.find(\">\",beg)+1\n",
        "\t\t\t\tdeg=deg[beg:]\n",
        "\t\t\t\tbeg=0\n",
        "#\t\t\t\tprint(\"5\")\n",
        "\t\t\telif bi!=-1 and mi==-1:\n",
        "\t\t\t\tvolumes.append(int(deg[:deg.find(\">\",beg)]))\n",
        "\t\t\t\tsigns.append(\">\")\n",
        "\t\t\t\tbeg=deg.find(\">\",beg)+1\n",
        "\t\t\t\tdeg=deg[beg:]\n",
        "\t\t\t\tbeg=0\n",
        "#\t\t\t\tprint(\"3\")\n",
        "\t\t\telif mi!=-1 and bi==-1:\n",
        "\t\t\t\tvolumes.append(int(deg[:deg.find(\"<\",beg)]))\n",
        "\t\t\t\tsigns.append(\"<\")\n",
        "\t\t\t\tbeg=deg.find(\"<\",beg)+1\n",
        "\t\t\t\tdeg=deg[beg:]\n",
        "\t\t\t\tbeg=0\n",
        "#\t\t\t\tprint(\"4\")\n",
        "\t\t\telif bi==-1 and mi==-1:\n",
        "\t\t\t\tvolumes.append(int(deg))\n",
        "\t\t\t\tdeg=\"\"\n",
        "\t\t\t\tbreak\n",
        "\t\t\tgiris+=1\n",
        "\t\ta=0\n",
        "\t\tb=1\n",
        "\t\tbol=True\n",
        "\t\tprint(volumes)\n",
        "\t\tprint(signs)\n",
        "\t\twhile a<len(volumes)-1:\n",
        "#\t\t\tprint(a,b)\n",
        "\t\t\tif signs[a]==\"<\":\n",
        "\t\t\t\tif volumes[a]<volumes[b]:\n",
        "\t\t\t\t\tpass\n",
        "\t\t\t\telse:\n",
        "\t\t\t\t\tbol=False\n",
        "\t\t\telif signs[a]==\">\":\n",
        "\t\t\t\tif volumes[a]>volumes[b]:\n",
        "\t\t\t\t\tpass\n",
        "\t\t\t\telse:\n",
        "\t\t\t\t\tbol=False\n",
        "\t\t\telse:\n",
        "\t\t\t\tprint(\"Wow\")\n",
        "\t\t\ta+=1\n",
        "\t\t\tb+=1\n",
        "\t\tprint(bol)\n",
        "\texcept ValueError:\n",
        "\t\tprint(\"There is some problem with your number\")\n",
        "\t\n",
        "\n",
        "correct_signs(\"12 < 45 > 12 < 45\")\n",
        "correct_signs(\"25<13>4846>456\")\n",
        "correct_signs(\"1181546>1563>1516<1566813\")"
      ],
      "execution_count": 2,
      "outputs": [
        {
          "output_type": "stream",
          "name": "stdout",
          "text": [
            "[12, 45, 12, 45]\n",
            "['<', '>', '<']\n",
            "True\n",
            "[25, 13, 4846, 456]\n",
            "['<', '>', '>']\n",
            "False\n",
            "[1181546, 1563, 1516, 1566813]\n",
            "['>', '>', '<']\n",
            "True\n"
          ]
        }
      ]
    },
    {
      "cell_type": "code",
      "metadata": {
        "id": "2jyGSm78TdQH"
      },
      "source": [
        "Question3. Create a function that replaces all the vowels in a string with a specified character.\n",
        "Examples\n",
        "replace_vowels(\"the aardvark\", \"#\") ➞ \"th# ##rdv#rk\"\n",
        "\n",
        "replace_vowels(\"minnie mouse\", \"?\") ➞ \"m?nn?? m??s?\"\n",
        "\n",
        "replace_vowels(\"shakespeare\", \"*\") ➞ \"sh*k*sp**r*\""
      ],
      "execution_count": null,
      "outputs": []
    },
    {
      "cell_type": "code",
      "metadata": {
        "id": "r9JmWJqSTkEL"
      },
      "source": [
        "def removeVowels(theaardvark):\n",
        "    vowels = ('a', 'e', 'i', 'o', 'u')\n",
        "    for c in word:\n",
        "        if c in vowels:\n",
        "            res = word.replace(c,\"\")\n",
        "    return res \n",
        "    print(c)"
      ],
      "execution_count": 6,
      "outputs": []
    },
    {
      "cell_type": "code",
      "metadata": {
        "id": "91Vq5DrqT24f"
      },
      "source": [
        "Question4. Write a function that calculates the factorial of a number recursively.\n",
        "Examples\n",
        "factorial(5) ➞ 120\n",
        "\n",
        "factorial(3) ➞ 6\n",
        "\n",
        "factorial(1) ➞ 1\n",
        "\n",
        "factorial(0) ➞ 1\n"
      ],
      "execution_count": null,
      "outputs": []
    },
    {
      "cell_type": "code",
      "metadata": {
        "colab": {
          "base_uri": "https://localhost:8080/"
        },
        "id": "LZ5z7rtYUH_N",
        "outputId": "2a44a4b7-90bf-4d78-9226-308f0d8e86d6"
      },
      "source": [
        "\n",
        "def recur_factorial(n):\n",
        "   if n == 1:\n",
        "       return n\n",
        "   else:\n",
        "       return n*recur_factorial(n-1)\n",
        "\n",
        "num = 5\n",
        "\n",
        "# check if the number is negative\n",
        "if num < 0:\n",
        "   print(\"Sorry, factorial does not exist for negative numbers\")\n",
        "elif num == 0:\n",
        "   print(\"The factorial of 0 is 1\")\n",
        "else:\n",
        "   print(\"The factorial of\", num, \"is\", recur_factorial(num))\n"
      ],
      "execution_count": 7,
      "outputs": [
        {
          "output_type": "stream",
          "name": "stdout",
          "text": [
            "The factorial of 5 is 120\n"
          ]
        }
      ]
    },
    {
      "cell_type": "code",
      "metadata": {
        "id": "Ev7EX9BaUS-w"
      },
      "source": [
        "Question 5\n",
        "Hamming distance is the number of characters that differ between two strings.\n",
        "To illustrate:\n",
        "String1: \"abcbba\"\n",
        "String2: \"abcbda\"\n",
        "\n",
        "Hamming Distance: 1 - \"b\" vs. \"d\" is the only difference.\n",
        "Create a function that computes the hamming distance between two strings.\n",
        "Examples\n",
        "hamming_distance(\"abcde\", \"bcdef\") ➞ 5\n",
        "\n",
        "hamming_distance(\"abcde\", \"abcde\") ➞ 0\n",
        "\n",
        "hamming_distance(\"strong\", \"strung\") ➞ 1\n"
      ],
      "execution_count": null,
      "outputs": []
    },
    {
      "cell_type": "code",
      "metadata": {
        "id": "xN6hYfV2UZxW"
      },
      "source": [
        ""
      ],
      "execution_count": null,
      "outputs": []
    }
  ]
}