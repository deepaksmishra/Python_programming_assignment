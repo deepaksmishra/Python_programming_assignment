{
  "nbformat": 4,
  "nbformat_minor": 0,
  "metadata": {
    "colab": {
      "name": "python_programming_19.ipynb",
      "provenance": [],
      "collapsed_sections": []
    },
    "kernelspec": {
      "name": "python3",
      "display_name": "Python 3"
    },
    "language_info": {
      "name": "python"
    }
  },
  "cells": [
    {
      "cell_type": "code",
      "metadata": {
        "id": "7CtOzvJwaFL-"
      },
      "source": [
        "Question1\n",
        "Create a function that takes a string and returns a string in which each character is repeated\n",
        "once.\n",
        "Examples\n",
        "double_char(&quot;String&quot;) ➞ &quot;SSttrriinngg&quot;\n",
        "double_char(&quot;Hello World!&quot;) ➞ &quot;HHeelllloo WWoorrlldd!!&quot;\n",
        "double_char(&quot;1234!_ &quot;) ➞ &quot;11223344!!__ &quot;"
      ],
      "execution_count": null,
      "outputs": []
    },
    {
      "cell_type": "code",
      "metadata": {
        "colab": {
          "base_uri": "https://localhost:8080/"
        },
        "id": "2gEsm_mXaOI7",
        "outputId": "64eeacbe-05e0-4d18-8b91-d9f4773ad7be"
      },
      "source": [
        "def firstRepeatedChar(str):\n",
        " \n",
        "    h = {} # Create empty hash\n",
        "\n",
        "    for ch in str:\n",
        " \n",
        "       \n",
        "        if ch in h:\n",
        "            return ch;\n",
        " \n",
        "        # Add ch to hash\n",
        "        else:\n",
        "            h[ch] = 0\n",
        " \n",
        "    return '\\0'\n",
        " \n",
        " \n",
        "# Driver code\n",
        "print(firstRepeatedChar(\"Hello World\"))"
      ],
      "execution_count": 2,
      "outputs": [
        {
          "output_type": "stream",
          "name": "stdout",
          "text": [
            "l\n"
          ]
        }
      ]
    },
    {
      "cell_type": "code",
      "metadata": {
        "id": "UxPjhq8CbQYS"
      },
      "source": [
        "Question2\n",
        "Create a function that reverses a boolean value and returns the string &quot;boolean expected&quot;\n",
        "if another variable type is given.\n",
        "Examples\n",
        "reverse(True) ➞ False\n",
        "reverse(False) ➞ True\n",
        "reverse(0) ➞ &quot;boolean expected&quot;\n",
        "reverse(None) ➞ &quot;boolean expected&quot;"
      ],
      "execution_count": null,
      "outputs": []
    },
    {
      "cell_type": "code",
      "metadata": {
        "colab": {
          "base_uri": "https://localhost:8080/"
        },
        "id": "jymfhVlRb0SE",
        "outputId": "78708227-a243-4b79-9ebe-178eee3f9ef6"
      },
      "source": [
        "\n",
        "\n",
        "# Examples Edabit:\n",
        "def reverse(arg):\n",
        "\tif isinstance(arg, bool):\n",
        "\t\treturn not arg\n",
        "\telse:\n",
        "\t\treturn('boolean expected')\n",
        "\n",
        "def reverse(arg=None):\n",
        "\treturn not arg if type(arg) == bool else \"boolean expected\"\n",
        "\n",
        "print(reverse(True)) # False\n",
        "print(reverse(False)) # True\n",
        "print(reverse(0)) # \"boolean expected\"\n",
        "print(reverse(None)) # \"boolean expected\""
      ],
      "execution_count": 5,
      "outputs": [
        {
          "output_type": "stream",
          "name": "stdout",
          "text": [
            "False\n",
            "True\n",
            "boolean expected\n",
            "boolean expected\n"
          ]
        }
      ]
    },
    {
      "cell_type": "code",
      "metadata": {
        "id": "-2tHxxCwfsZN"
      },
      "source": [
        "Question3\n",
        "Create a function that returns the thickness (in meters) of a piece of paper after folding it n\n",
        "number of times. The paper starts off with a thickness of 0.5mm.\n",
        "Examples\n",
        "num_layers(1) ➞ &quot;0.001m&quot;\n",
        "# Paper folded once is 1mm (equal to 0.001m)\n",
        "num_layers(4) ➞ &quot;0.008m&quot;\n",
        "# Paper folded 4 times is 8mm (equal to 0.008m)\n",
        "num_layers(21) ➞ &quot;1048.576m&quot;\n",
        "# Paper folded 21 times is 1048576mm (equal to 1048.576m)"
      ],
      "execution_count": null,
      "outputs": []
    },
    {
      "cell_type": "code",
      "metadata": {
        "id": "phUHbeyzgalZ"
      },
      "source": [
        "function numLayers(n):\n",
        "  let layers = Math.pow(2, n - 1) / 1000;\n",
        "\n",
        "  return n === 1\n",
        "    ? 0.001 + \"m\"\n",
        "    : Math.floor(layers).toString().length > 16\n",
        "    ? layers.toExponential() + \"m\"\n",
        "    : Math.floor(layers).toString().length === 16\n",
        "    ? layers + \".0m\"\n",
        "    : layers + \"m\";\n"
      ],
      "execution_count": 8,
      "outputs": []
    },
    {
      "cell_type": "code",
      "metadata": {
        "id": "9kRdHxrTgwRj"
      },
      "source": [
        "def fold(num_folds=50, thickness=0.1):\n",
        "    \"\"\"Simulate folding a sheet of paper in half.\n",
        "    ``num_folds`` is the number of times we'll fold the paper in half.\n",
        "    ``thickness`` is the the thickness of a sheet of paper (in millimeters).\n",
        "    \"\"\"\n",
        "\n",
        "    for i in range(1, num_folds + 1):\n",
        "        thickness = thickness * 2\n",
        "\n",
        "        if thickness >= 10000:\n",
        "            # convert to kilometers\n",
        "            t = thickness / 10000.0\n",
        "            units = 'km'\n",
        "        elif thickness >= 1000:\n",
        "            # convert to meters\n",
        "            t = thickness / 1000.0\n",
        "            units = 'm'\n",
        "        elif thickness >= 100:\n",
        "            # convert to centimeters\n",
        "            t = thickness / 100.0\n",
        "            units = 'cm'\n",
        "        else:\n",
        "            # keep in millimeters\n",
        "            t = thickness\n",
        "            units = 'mm'\n",
        "\n",
        "        fmt_string = '{n} folds, thickness = {thickness:G} {units}'\n",
        "        print(fmt_string.format(n=i, thickness=t, units=units))\n",
        "\n",
        "\n",
        "if __name__ == \"__main__\":\n",
        "    n = input(\"\\n\\nHow many folds? \")\n",
        "    fold(n)"
      ],
      "execution_count": 8,
      "outputs": []
    },
    {
      "cell_type": "code",
      "metadata": {
        "id": "0ra9FBD1hRjh"
      },
      "source": [
        "Question4\n",
        "\n",
        "Create a function that takes a single string as argument and returns an ordered list containing\n",
        "the indices of all capital letters in the string.\n",
        "Examples\n",
        "index_of_caps(&quot;eDaBiT&quot;) ➞ [1, 3, 5]\n",
        "index_of_caps(&quot;eQuINoX&quot;) ➞ [1, 3, 4, 6]\n",
        "index_of_caps(&quot;determine&quot;) ➞ []\n",
        "index_of_caps(&quot;STRIKE&quot;) ➞ [0, 1, 2, 3, 4, 5]\n",
        "index_of_caps(&quot;sUn&quot;) ➞ [1]"
      ],
      "execution_count": null,
      "outputs": []
    },
    {
      "cell_type": "code",
      "metadata": {
        "id": "hXu0-X6hkGKT"
      },
      "source": [
        "const capital = function(word) {\n",
        "  const arr = word.split(\"\");\n",
        "  const arrOrdened = arr.map(function(e, i, a) {\n",
        "    if (e === e.toUpperCase()) {\n",
        "       return i;\n",
        "    }\n",
        "  });\n",
        "  console.log(arrOrdened);\n",
        "};\n",
        "\n",
        "capital(\"CodEWaRs\");"
      ],
      "execution_count": 9,
      "outputs": []
    },
    {
      "cell_type": "code",
      "metadata": {
        "id": "2TUjpGRdk9Tx"
      },
      "source": [
        "Question5\n",
        "Using list comprehensions, create a function that finds all even numbers from 1 to the given\n",
        "number.\n",
        "Examples\n",
        "find_even_nums(8) ➞ [2, 4, 6, 8]\n",
        "find_even_nums(4) ➞ [2, 4]\n",
        "find_even_nums(2) ➞ [2]"
      ],
      "execution_count": null,
      "outputs": []
    },
    {
      "cell_type": "code",
      "metadata": {
        "colab": {
          "base_uri": "https://localhost:8080/"
        },
        "id": "lVr6w5qFj6bz",
        "outputId": "bd358558-9a49-4a46-efe6-f0bcefd26b24"
      },
      "source": [
        "list1 = [10, 21, 4, 45, 66, 93]\n",
        "  \n",
        "# using list comprehension\n",
        "even_nos = [num for num in list1 if num % 2 == 0]\n",
        "  \n",
        "print(\"Even numbers in the list: \", even_nos)"
      ],
      "execution_count": 10,
      "outputs": [
        {
          "output_type": "stream",
          "name": "stdout",
          "text": [
            "Even numbers in the list:  [10, 4, 66]\n"
          ]
        }
      ]
    },
    {
      "cell_type": "code",
      "metadata": {
        "id": "8Du95LMBlVwc"
      },
      "source": [
        ""
      ],
      "execution_count": null,
      "outputs": []
    }
  ]
}