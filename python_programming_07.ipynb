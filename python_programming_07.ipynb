{
 "cells": [
  {
   "cell_type": "code",
   "execution_count": null,
   "metadata": {},
   "outputs": [],
   "source": [
    "Write a Python Program to find sum of array?"
   ]
  },
  {
   "cell_type": "code",
   "execution_count": 1,
   "metadata": {},
   "outputs": [
    {
     "name": "stdout",
     "output_type": "stream",
     "text": [
      "Enter the size of the array: 5\n",
      "Enter array elements: \n",
      "1\n",
      "4\n",
      "4\n",
      "6\n",
      "5\n",
      "Sum: 20\n"
     ]
    }
   ],
   "source": [
    "lst = []\n",
    "num = int(input(\"Enter the size of the array: \"))\n",
    "print(\"Enter array elements: \")\n",
    "for n in range(num):\n",
    "  numbers = int(input())\n",
    "  lst.append(numbers)\n",
    "print(\"Sum:\", sum(lst))"
   ]
  },
  {
   "cell_type": "code",
   "execution_count": null,
   "metadata": {},
   "outputs": [],
   "source": [
    "Write a Python Program to find largest element in an array?"
   ]
  },
  {
   "cell_type": "code",
   "execution_count": 3,
   "metadata": {},
   "outputs": [
    {
     "name": "stdout",
     "output_type": "stream",
     "text": [
      "Largest element present in given array: 444\n"
     ]
    }
   ],
   "source": [
    "arr = [25, 11, 7, 75, 444];     \n",
    "max = arr[0];    \n",
    "for i in range(0, len(arr)):    \n",
    "   if(arr[i] > max):    \n",
    "       max = arr[i];    \n",
    "           \n",
    "print(\"Largest element present in given array: \" + str(max))"
   ]
  },
  {
   "cell_type": "code",
   "execution_count": null,
   "metadata": {},
   "outputs": [],
   "source": [
    "Write a Python Program for array rotation?"
   ]
  },
  {
   "cell_type": "code",
   "execution_count": 6,
   "metadata": {},
   "outputs": [
    {
     "name": "stdout",
     "output_type": "stream",
     "text": [
      "[5, 1, 2, 3, 4]\n"
     ]
    }
   ],
   "source": [
    "arr = [1,2,3,4,5]\n",
    "rotations = 4\n",
    "arr = arr[4:]+arr[:4]\n",
    "print(arr)"
   ]
  },
  {
   "cell_type": "code",
   "execution_count": null,
   "metadata": {},
   "outputs": [],
   "source": [
    "Write a Python Program to Split the array and add the first part to the end?"
   ]
  },
  {
   "cell_type": "code",
   "execution_count": 7,
   "metadata": {},
   "outputs": [
    {
     "name": "stdout",
     "output_type": "stream",
     "text": [
      "Output array is [5, 17, 10, 13]\n"
     ]
    }
   ],
   "source": [
    "def split(arr, k):\n",
    "\n",
    "    arr = arr[k:] + arr[:k]\n",
    "\n",
    "    return arr\n",
    "k = 2\n",
    "arr = [10, 13, 5, 17]\n",
    "print(\"Output array is\", split(arr, k))"
   ]
  },
  {
   "cell_type": "code",
   "execution_count": null,
   "metadata": {},
   "outputs": [],
   "source": [
    "Write a Python Program to check if given array is Monotonic?"
   ]
  },
  {
   "cell_type": "code",
   "execution_count": 9,
   "metadata": {},
   "outputs": [
    {
     "name": "stdout",
     "output_type": "stream",
     "text": [
      "The given array is monotonic ? True/False: True\n"
     ]
    }
   ],
   "source": [
    "def check_monotone(arr):\n",
    "\n",
    "    return (all(arr[i] <= arr[i+1] for i in range(len(arr) - 1)) or all(arr[i] >= arr[i+1] for i in range(len(arr) - 1)))\n",
    "\n",
    "arr = [4, 7, 15, 19]\n",
    "\n",
    "print(\"The given array is monotonic ? True/False:\",check_monotone(arr))"
   ]
  },
  {
   "cell_type": "code",
   "execution_count": null,
   "metadata": {},
   "outputs": [],
   "source": []
  }
 ],
 "metadata": {
  "kernelspec": {
   "display_name": "Python 3",
   "language": "python",
   "name": "python3"
  },
  "language_info": {
   "codemirror_mode": {
    "name": "ipython",
    "version": 3
   },
   "file_extension": ".py",
   "mimetype": "text/x-python",
   "name": "python",
   "nbconvert_exporter": "python",
   "pygments_lexer": "ipython3",
   "version": "3.8.5"
  }
 },
 "nbformat": 4,
 "nbformat_minor": 4
}
