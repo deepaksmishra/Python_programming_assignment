{
 "cells": [
  {
   "cell_type": "code",
   "execution_count": null,
   "metadata": {},
   "outputs": [],
   "source": [
    "1) Write a Python program to print \"Hello Python\"?\n",
    "Ans : print(\"Hello World\")\n"
   ]
  },
  {
   "cell_type": "code",
   "execution_count": null,
   "metadata": {},
   "outputs": [],
   "source": [
    "2) Write a Python program to do arithmetical operations addition and division.?\n",
    "Ans : \n",
    "a=10\n",
    "b=20\n",
    "print(\"the addition is \",a+b)\n",
    "print(\"The division is \",a/b)\n",
    "\n"
   ]
  },
  {
   "cell_type": "code",
   "execution_count": null,
   "metadata": {},
   "outputs": [],
   "source": [
    "3)Write a Python program to find the area of a triangle?\n",
    "Ans: a=int(input(\"Enter the lenght & breath of traingle\"))\n",
    "     b=int(input(\"Enter the lenght & breath of traingle\"))\n",
    "        print(\"The area of triangle is\" , a*b)\n",
    "    "
   ]
  },
  {
   "cell_type": "code",
   "execution_count": null,
   "metadata": {},
   "outputs": [],
   "source": [
    "4)Write a Python program to swap two variables?\n",
    "Ans: \n",
    "num1 = input('Enter First Number: ')\n",
    "num2 = input('Enter Second Number: ')\n",
    "print(\"Value of num1 before swapping: \", num1)\n",
    "print(\"Value of num2 before swapping: \", num2)\n",
    "temp = num1\n",
    "num1 = num2\n",
    "num2 = temp\n",
    "print(\"Value of num1 after swapping: \", num1)\n",
    "print(\"Value of num2 after swapping: \", num2)"
   ]
  },
  {
   "cell_type": "code",
   "execution_count": null,
   "metadata": {},
   "outputs": [],
   "source": [
    "5)Write a Python program to generate a random number?\n",
    "Ans:\n",
    "import random\n",
    "print(\"A random number from list is : \", end=\"\")\n",
    "print(random.choice([1, 4, 8, 10, 3]))\n",
    "print(\"A random number from range is : \", end=\"\")\n",
    "print(random.randrange(20, 50, 3))\n",
    "\n"
   ]
  }
 ],
 "metadata": {
  "kernelspec": {
   "display_name": "Python 3",
   "language": "python",
   "name": "python3"
  },
  "language_info": {
   "codemirror_mode": {
    "name": "ipython",
    "version": 3
   },
   "file_extension": ".py",
   "mimetype": "text/x-python",
   "name": "python",
   "nbconvert_exporter": "python",
   "pygments_lexer": "ipython3",
   "version": "3.8.5"
  }
 },
 "nbformat": 4,
 "nbformat_minor": 4
}
