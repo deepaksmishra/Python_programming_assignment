{
  "nbformat": 4,
  "nbformat_minor": 0,
  "metadata": {
    "colab": {
      "name": "basic_programming_14ipynb",
      "provenance": [],
      "collapsed_sections": []
    },
    "kernelspec": {
      "name": "python3",
      "display_name": "Python 3"
    },
    "language_info": {
      "name": "python"
    }
  },
  "cells": [
    {
      "cell_type": "code",
      "metadata": {
        "id": "5BMqBbO6seSZ"
      },
      "source": [
        "Question 1:\n",
        "Define a class with a generator which can iterate the numbers, which are divisible by 7, between a given range 0 and n."
      ],
      "execution_count": null,
      "outputs": []
    },
    {
      "cell_type": "code",
      "metadata": {
        "colab": {
          "base_uri": "https://localhost:8080/"
        },
        "id": "VmVRP-S2sydj",
        "outputId": "08bf428c-0e63-4ff7-ee86-c4b945e75a51"
      },
      "source": [
        "n = int(input())\n",
        "divBy7 = [i for i in range(0, n) if (i % 7 == 0)]\n",
        "print(divBy7)\n",
        "\n",
        "def divChecker(n):\n",
        "    for i in range(n):\n",
        "        if i % 7 == 0:\n",
        "            value = True\n",
        "        else:\n",
        "            value = False\n",
        "        print(i, value)\n",
        "\n",
        "divChecker(n)"
      ],
      "execution_count": 1,
      "outputs": [
        {
          "output_type": "stream",
          "name": "stdout",
          "text": [
            "50\n",
            "[0, 7, 14, 21, 28, 35, 42, 49]\n",
            "0 True\n",
            "1 False\n",
            "2 False\n",
            "3 False\n",
            "4 False\n",
            "5 False\n",
            "6 False\n",
            "7 True\n",
            "8 False\n",
            "9 False\n",
            "10 False\n",
            "11 False\n",
            "12 False\n",
            "13 False\n",
            "14 True\n",
            "15 False\n",
            "16 False\n",
            "17 False\n",
            "18 False\n",
            "19 False\n",
            "20 False\n",
            "21 True\n",
            "22 False\n",
            "23 False\n",
            "24 False\n",
            "25 False\n",
            "26 False\n",
            "27 False\n",
            "28 True\n",
            "29 False\n",
            "30 False\n",
            "31 False\n",
            "32 False\n",
            "33 False\n",
            "34 False\n",
            "35 True\n",
            "36 False\n",
            "37 False\n",
            "38 False\n",
            "39 False\n",
            "40 False\n",
            "41 False\n",
            "42 True\n",
            "43 False\n",
            "44 False\n",
            "45 False\n",
            "46 False\n",
            "47 False\n",
            "48 False\n",
            "49 True\n"
          ]
        }
      ]
    },
    {
      "cell_type": "code",
      "metadata": {
        "id": "MOe2z0Lts-qh"
      },
      "source": [
        "Question 2:\n",
        "Write a program to compute the frequency of the words from the input. The output should output after sorting the key alphanumerically. \n",
        "\n",
        "\n",
        "\n",
        "\n",
        "Suppose the following input is supplied to the program:\n",
        "\n",
        "\n",
        "\n",
        "\n",
        "New to Python or choosing between Python 2 and Python 3? Read Python 2 or Python 3.\n",
        "\n",
        "\n",
        "\n",
        "\n",
        "Then, the output should be:\n",
        "\n",
        "\n",
        "\n",
        "\n",
        "2:2\n",
        "\n",
        "\n",
        "\n",
        "\n",
        "3.:1\n",
        "\n",
        "\n",
        "\n",
        "\n",
        "3?:1\n",
        "\n",
        "\n",
        "\n",
        "\n",
        "New:1\n",
        "\n",
        "\n",
        "\n",
        "\n",
        "Python:5\n",
        "\n",
        "\n",
        "\n",
        "\n",
        "Read:1\n",
        "\n",
        "\n",
        "\n",
        "\n",
        "and:1\n",
        "\n",
        "\n",
        "\n",
        "\n",
        "between:1\n",
        "\n",
        "\n",
        "\n",
        "\n",
        "choosing:1\n",
        "\n",
        "\n",
        "\n",
        "\n",
        "or:2\n",
        "\n",
        "\n",
        "\n",
        "to:1\n"
      ],
      "execution_count": null,
      "outputs": []
    },
    {
      "cell_type": "code",
      "metadata": {
        "colab": {
          "base_uri": "https://localhost:8080/"
        },
        "id": "Z4sw2OM6tJpi",
        "outputId": "9faadf84-97f8-4b82-827c-4603e2bc2d65"
      },
      "source": [
        "import operator\n",
        "\n",
        "text_line = input(\"Type in: \")\n",
        "\n",
        "freq_dict = {}\n",
        "\n",
        "for i in text_line.split(' '):\n",
        "    if i.isalpha():\n",
        "        if i not in freq_dict:\n",
        "            freq_dict[i] = 1\n",
        "        elif i in freq_dict:\n",
        "            freq_dict[i] = freq_dict[i] + 1\n",
        "    else:\n",
        "        pass\n",
        "\n",
        "sorted_freq_dict = sorted(freq_dict.items(), key = operator.itemgetter(0))\n",
        "print(sorted_freq_dict)\n",
        "\n",
        "for i in sorted_freq_dict:\n",
        "    print(i[0], i[1])"
      ],
      "execution_count": 2,
      "outputs": [
        {
          "output_type": "stream",
          "name": "stdout",
          "text": [
            "Type in: deepaklskd\n",
            "[('deepaklskd', 1)]\n",
            "deepaklskd 1\n"
          ]
        }
      ]
    },
    {
      "cell_type": "code",
      "metadata": {
        "id": "62LTZVQStaMK"
      },
      "source": [
        "Question 3:\n",
        "\n",
        "Define a class Person and its two child classes: Male and Female. All classes have a method \"getGender\" which can print \"Male\" for Male class and \"Female\" for Female class.\n"
      ],
      "execution_count": null,
      "outputs": []
    },
    {
      "cell_type": "code",
      "metadata": {
        "id": "TZoShCmIteKp"
      },
      "source": [
        "class Person(object):\n",
        "    def getGender( self ):\n",
        "        return \"Unknown\"\n",
        "\n",
        "class Male( Person ):\n",
        "    def getGender( self ):\n",
        "        return \"Male\"\n",
        "\n",
        "class Female( Person ):\n",
        "    def getGender( self ):\n",
        "        return \"Female\"\n",
        "\n",
        "aMale = Male()\n",
        "aFemale= Female()\n",
        "print aMale.getGender()\n",
        "print aFemale.getGender()"
      ],
      "execution_count": 5,
      "outputs": []
    },
    {
      "cell_type": "code",
      "metadata": {
        "id": "bwLTDfBvtz19"
      },
      "source": [
        "Question 4:\n",
        "Please write a program to generate all sentences where subject is in [\"I\", \"You\"] and verb is in [\"Play\", \"Love\"] and the object is in [\"Hockey\",\"Football\"].\n"
      ],
      "execution_count": null,
      "outputs": []
    },
    {
      "cell_type": "code",
      "metadata": {
        "colab": {
          "base_uri": "https://localhost:8080/"
        },
        "id": "5mL6g0KRt-Zi",
        "outputId": "4e5f806f-35bc-4a44-85ce-144c3dd35f2e"
      },
      "source": [
        "subjects=[\"I\", \"You\"]\n",
        "verbs=[\"Play\", \"Love\"]\n",
        "objects=[\"Hockey\",\"Football\"]\n",
        "\n",
        "res = [[i, j, k] for i in subjects  \n",
        "                 for j in verbs \n",
        "                 for k in objects] \n",
        "for x in res:\n",
        "    print(\" \".join(x))"
      ],
      "execution_count": 7,
      "outputs": [
        {
          "output_type": "stream",
          "name": "stdout",
          "text": [
            "I Play Hockey\n",
            "I Play Football\n",
            "I Love Hockey\n",
            "I Love Football\n",
            "You Play Hockey\n",
            "You Play Football\n",
            "You Love Hockey\n",
            "You Love Football\n"
          ]
        }
      ]
    },
    {
      "cell_type": "code",
      "metadata": {
        "id": "Y5sP5b_iuQ3y"
      },
      "source": [
        "Question 5:\n",
        "Please write a program to compress and decompress the string \"hello world!hello world!hello world!hello world!\""
      ],
      "execution_count": null,
      "outputs": []
    },
    {
      "cell_type": "code",
      "metadata": {
        "id": "Dj4BS4WSuUYM"
      },
      "source": [
        "import zlib\n",
        "s = 'hello world!hello world!hello world!hello world!'\n",
        "t = zlib.compress(s)\n",
        "print t\n",
        "print zlib.decompress(t)"
      ],
      "execution_count": 9,
      "outputs": []
    },
    {
      "cell_type": "code",
      "metadata": {
        "id": "VlQGzV8KucWb"
      },
      "source": [
        "Question 6:\n",
        "Please write a binary search function which searches an item in a sorted list. The function should return the index of element to be searched in the list.\n"
      ],
      "execution_count": null,
      "outputs": []
    },
    {
      "cell_type": "code",
      "metadata": {
        "colab": {
          "base_uri": "https://localhost:8080/"
        },
        "id": "NsLoEP3Wu1N7",
        "outputId": "3c5732f9-868e-4e5c-8be4-9d7b6e3524b5"
      },
      "source": [
        "from bisect import bisect_left\n",
        "  \n",
        "def BinarySearch(a, x):\n",
        "    i = bisect_left(a, x)\n",
        "    if i != len(a) and a[i] == x:\n",
        "        return i\n",
        "    else:\n",
        "        return -1\n",
        "  \n",
        "a  = [1, 2, 4, 4, 8]\n",
        "x = int(4)\n",
        "res = BinarySearch(a, x)\n",
        "if res == -1:\n",
        "    print(x, \"is absent\")\n",
        "else:\n",
        "    print(\"First occurrence of\", x, \"is present at\", res)"
      ],
      "execution_count": 10,
      "outputs": [
        {
          "output_type": "stream",
          "name": "stdout",
          "text": [
            "First occurrence of 4 is present at 2\n"
          ]
        }
      ]
    }
  ]
}